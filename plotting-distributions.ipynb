{
  "cells": [
    {
      "cell_type": "markdown",
      "metadata": {
        "id": "qVk7QlVRAGuj"
      },
      "source": [
        "### Plotting Distributions\n",
        "\n",
        "The fourth row of our Senet table contained the values:\n",
        "\n",
        "$$1 ~ 4 ~ 6 ~ 4 ~ 1$$\n",
        "\n",
        "We can draw a plot of this, using bars to represent the counts of each outcome."
      ]
    },
    {
      "cell_type": "code",
      "execution_count": 6,
      "metadata": {
        "id": "dZCweRSwAGuk"
      },
      "outputs": [],
      "source": [
        "import matplotlib.pyplot as plt\n",
        "\n",
        "bars = ['no white', 'one white', 'two white', 'three white', 'four white']\n",
        "counts = [1, 4, 6, 4, 1]"
      ]
    },
    {
      "cell_type": "code",
      "execution_count": 7,
      "metadata": {
        "colab": {
          "base_uri": "https://localhost:8080/",
          "height": 452
        },
        "id": "krmqSQl5AGuk",
        "outputId": "b4e60c8f-83dc-4693-c882-fb2415d6c435"
      },
      "outputs": [
        {
          "output_type": "display_data",
          "data": {
            "text/plain": [
              "<Figure size 640x480 with 1 Axes>"
            ],
            "image/png": "[encoded data removed]"
          },
          "metadata": {}
        }
      ],
      "source": [
        "plt.bar(bars, counts)\n",
        "plt.title('Counts for each outcome with four two-sided sticks');"
      ]
    },
    {
      "cell_type": "markdown",
      "metadata": {
        "id": "HobSAnYuAGuk"
      },
      "source": [
        "Using this plot, we come back to the problem of determining the probability of a given outcome or outcomes. Here, we can interpret this probability as the relative area of a given bar to the overall count. For example, we consider each bar to have a width of one unit and a height of the count. Thus, we have a total area of:\n",
        "\n",
        "$$\\textbf{TOTAL AREA} = 1 + 4 + 6 + 4 + 1 = 16$$\n",
        "\n",
        "This is the total number of possible outcomes. Thus, determining the probability of a specific outcome is as simple as dividing the total area of our bars by the area under the event of interest.\n",
        "\n",
        "$$P(\\text{two white}) = \\frac{\\text{area of bar for two white}}{\\text{total area}} = \\frac{6}{16}$$"
      ]
    },
    {
      "cell_type": "markdown",
      "metadata": {
        "id": "-HetZHuPAGuk"
      },
      "source": [
        "### Problems\n",
        "\n",
        "1. Use the plot above to determine the probability of zero white sticks.\n",
        "2. Use the plot above to determine the probability of one white stick.\n",
        "3. What is the probability of one, two, *or* three white sticks, and how do we use the graph to determine this?"
      ]
    },
    {
      "cell_type": "code",
      "source": [
        "print(f\"Probability of zero white sticks: {counts[0]/ sum(counts)}\")"
      ],
      "metadata": {
        "id": "Cfi3rIP2ic6z",
        "outputId": "771ebf59-61f6-442e-abc2-f05cca145b30",
        "colab": {
          "base_uri": "https://localhost:8080/"
        }
      },
      "execution_count": 10,
      "outputs": [
        {
          "output_type": "stream",
          "name": "stdout",
          "text": [
            "Probability of zero white sticks: 0.0625\n"
          ]
        }
      ]
    },
    {
      "cell_type": "code",
      "source": [
        "print(f\"Probability of one white sticks: {counts[1] / sum(counts)}\")"
      ],
      "metadata": {
        "id": "SQgfGpIBidJF",
        "outputId": "e7edf534-e402-4564-cf5c-91b27b5b0df1",
        "colab": {
          "base_uri": "https://localhost:8080/"
        }
      },
      "execution_count": 11,
      "outputs": [
        {
          "output_type": "stream",
          "name": "stdout",
          "text": [
            "Probability of one white sticks: 0.25\n"
          ]
        }
      ]
    },
    {
      "cell_type": "code",
      "source": [
        "print(f\"Probability of three white sticks: {counts[3] / sum(counts)}\")\n",
        "\n",
        "\"\"\"\n",
        "The graph directly provides the counts (frequencies) for each outcome,\n",
        "which corresponds to the number of favorable combinations for each type of stick.\n",
        "This allows us to calculate the probabilities by dividing these values by the total number of possible combinations (16).\n",
        "\n",
        "Summary of how to use the graph:\n",
        "\n",
        "Identify the number of combinations (counts) for each type of outcome.\n",
        "Sum the counts to obtain the total number of possible combinations.\n",
        "Divide the count for each type by the total to calculate its probability.\n",
        "\n",
        "\"\"\""
      ],
      "metadata": {
        "id": "V2x17ACLiZ_V",
        "outputId": "bc73d07d-9018-4dcc-80ad-a0da2ab55166",
        "colab": {
          "base_uri": "https://localhost:8080/"
        }
      },
      "execution_count": 13,
      "outputs": [
        {
          "output_type": "stream",
          "name": "stdout",
          "text": [
            "Probability of three white sticks: 0.25\n"
          ]
        }
      ]
    }
  ],
  "metadata": {
    "colab": {
      "provenance": []
    },
    "kernelspec": {
      "display_name": "Python 3",
      "language": "python",
      "name": "python3"
    },
    "language_info": {
      "codemirror_mode": {
        "name": "ipython",
        "version": 3
      },
      "file_extension": ".py",
      "mimetype": "text/x-python",
      "name": "python",
      "nbconvert_exporter": "python",
      "pygments_lexer": "ipython3",
      "version": "3.8.2"
    }
  },
  "nbformat": 4,
  "nbformat_minor": 0
}