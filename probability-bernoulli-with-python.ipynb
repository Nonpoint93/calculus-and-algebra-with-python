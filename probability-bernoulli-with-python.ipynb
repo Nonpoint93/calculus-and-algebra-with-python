{
  "cells": [
    {
      "cell_type": "markdown",
      "metadata": {
        "id": "nh__WW5eAGue"
      },
      "source": [
        "# Introduction to Probability\n",
        "\n",
        "*The probability of an event is a number between 0 and 1, where, roughly speaking, 0 indicates the impossibility of the event and 1 indicates certainty. The higher the probability of an event, the more likely it is that the event will occur. A simple example is the tossing of a fair (unbiased) coin. Since the coin is fair, the two outcomes (\"heads\" and \"tails\") are both equally probable; the probability of \"heads\" equals the probability of \"tails\"; and since no other outcomes are possible, the probability of either \"heads\" or \"tails\" is 1/2 (which could also be written as 0.5 or 50%).* --- [Source](https://en.wikipedia.org/wiki/Probability)"
      ]
    },
    {
      "cell_type": "code",
      "execution_count": null,
      "metadata": {
        "id": "EuF3SZnUAGue"
      },
      "outputs": [],
      "source": [
        "import matplotlib.pyplot as plt\n",
        "import numpy as np\n",
        "import pandas as pd"
      ]
    },
    {
      "cell_type": "markdown",
      "metadata": {
        "id": "LlAJdHFgAGue"
      },
      "source": [
        "## Example: Tossing Coins\n",
        "\n",
        "Consider the example of tossing a fair coin as the ground for our vocabulary and symbols. We will say the probability of getting a head is the total number of ways for this event to happen divided by the number of all possible outcomes.\n",
        "\n",
        "**EXAMPLE I**: A Fair Coin\n",
        "\n",
        "With one fair coin, we have either heads or tails. The outcome of interest is either heads or tails. We would say the probability of each is $\\frac{1}{2}$:\n",
        "\n",
        "$$P(\\text{head}) = \\frac{1}{2} \\quad P(\\text{tails}) = \\frac{1}{2}$$\n",
        "\n",
        "Note that these probabilities sum to 1."
      ]
    },
    {
      "cell_type": "markdown",
      "metadata": {
        "id": "n-h85_v3AGue"
      },
      "source": [
        "**EXAMPLE II**: An Unfair Coin\n",
        "\n",
        "An example of an unfair coin would be anything that does not have equal probability.  For example:\n",
        "\n",
        "$$P(\\text{head}) = \\frac{6}{10} \\quad P(\\text{tails}) = \\frac{4}{10}$$"
      ]
    },
    {
      "cell_type": "code",
      "execution_count": null,
      "metadata": {
        "colab": {
          "base_uri": "https://localhost:8080/",
          "height": 333
        },
        "id": "qpjlVffZAGue",
        "outputId": "a0ce31d8-365d-4cb9-c67d-9aa812661ae3"
      },
      "outputs": [
        {
          "data": {
            "image/png": "[encoded data removed]",
            "text/plain": [
              "<Figure size 1440x360 with 2 Axes>"
            ]
          },
          "metadata": {
            "needs_background": "light",
            "tags": []
          },
          "output_type": "display_data"
        }
      ],
      "source": [
        "import scipy.stats as stats\n",
        "fig, ax = plt.subplots(1, 2, figsize = (20, 5))\n",
        "fair_coin = stats.bernoulli(.5).pmf([0, 1])\n",
        "ax[0].bar(['heads', 'tails'], fair_coin, color=['gray', 'white'], edgecolor = 'black')\n",
        "ax[0].set_title('Probabilities for a Fair Coin');\n",
        "\n",
        "unfair_coin = stats.bernoulli(.4).pmf([0, 1])\n",
        "ax[1].bar(['heads', 'tails'], unfair_coin, color = ['gray', 'white'], edgecolor = 'black')\n",
        "ax[1].set_title('Probabilities for an Unfair Coin');"
      ]
    },
    {
      "cell_type": "markdown",
      "metadata": {
        "id": "Bj3lEIqSAGuf"
      },
      "source": [
        "### Probability Mass Function\n",
        "\n",
        "We can describe this kind of event as a function. Specifically, a situation in which there are two possible outcomes with a probability attached to each. This is called a *Bernoulli* distribution, and the functional form is:\n",
        "\n",
        "$$f(k;p)=pk+(1-p)(1-k)\\quad {\\text{for }}k\\in \\{0,1\\}$$"
      ]
    },
    {
      "cell_type": "markdown",
      "metadata": {
        "id": "tyEv6UmsAGuf"
      },
      "source": [
        "In our example of an unfair coin, if we consider heads as 0 and tails as 1 ($k$), we would have:\n",
        "\n",
        "$$f(0, .4) = .4*0 + (1 - .4)(1 - 0)$$"
      ]
    },
    {
      "cell_type": "markdown",
      "metadata": {
        "id": "THV-KaywAGuf"
      },
      "source": [
        "Which equals 0.6. Similarly, the probability of a tails ($k = 0$):\n",
        "\n",
        "$$f(1, .4) = .4 * 1 + (1 - 1)(1 - 1)$$\n",
        "\n",
        "Which equals 0.4"
      ]
    },
    {
      "cell_type": "code",
      "execution_count": null,
      "metadata": {
        "id": "19KM3ng6AGug"
      },
      "outputs": [],
      "source": [
        "def bernoulli(k, p):\n",
        "    return p*k + (1-p)*(1 - k)"
      ]
    },
    {
      "cell_type": "code",
      "execution_count": null,
      "metadata": {
        "colab": {
          "base_uri": "https://localhost:8080/"
        },
        "id": "qTUJ-D5yAGug",
        "outputId": "131e3fc5-2539-4e25-f381-ffc61d098f03"
      },
      "outputs": [
        {
          "data": {
            "text/plain": [
              "0.6"
            ]
          },
          "execution_count": 24,
          "metadata": {
            "tags": []
          },
          "output_type": "execute_result"
        }
      ],
      "source": [
        "bernoulli(0, 0.4)"
      ]
    },
    {
      "cell_type": "code",
      "execution_count": null,
      "metadata": {
        "colab": {
          "base_uri": "https://localhost:8080/"
        },
        "id": "MymmHDp6AGug",
        "outputId": "6bd809e7-bee1-4361-8f31-7a176e583de3"
      },
      "outputs": [
        {
          "data": {
            "text/plain": [
              "0.4"
            ]
          },
          "execution_count": 25,
          "metadata": {
            "tags": []
          },
          "output_type": "execute_result"
        }
      ],
      "source": [
        "bernoulli(1, 0.4)"
      ]
    },
    {
      "cell_type": "markdown",
      "metadata": {
        "id": "gqwMxdVTAGug"
      },
      "source": [
        "### PROBLEMS\n",
        "\n",
        "1. Suppose a bag contains 8 Red Marbles and 3 Blue Marbles.\n",
        " - What is the probability of choosing a red ball from a random draw?\n",
        " - And the probability of a blue ball?\n",
        "2. Suppose a bag contains 4 Red Marbles, 7 Yellow Marbles, and 2 Blue Marbles.\n",
        " - What is the probability of selecting a red *or* yellow marble?\n",
        " - What is the probability of selecting a yellow *or* blue marble?\n",
        " - How many different combinations of two colors of marbles can be selected from the bag?\n",
        "3. Suppose a bag contains 10 Red and 7 Blue marbles.\n",
        " - Suppose you select one marble from the bag, what is the probability this is red?\n",
        " - Suppose you select a blue marble, place the marble back in the bag, and select another marble. What is the probability the second marble is blue?\n",
        " - Suppose you select a blue marble, do not replace the marble and select another marble. What is the probability the second marble is blue?"
      ]
    },
    {
      "cell_type": "code",
      "source": [
        "import scipy.stats as stats\n",
        "import matplotlib.pyplot as plt\n",
        "\n",
        "\"\"\"\n",
        "    Suppose a bag contains 8 Red Marbles and 3 Blue Marbles.\n",
        "\n",
        "    What is the probability of choosing a red ball from a random draw?\n",
        "    A Blue Ball?\n",
        "\n",
        "    \"\"\"\n",
        "\n",
        "fig, ax = plt.subplots(1, 2, figsize = (20, 5))\n",
        "red_marble = stats.bernoulli(8 / 11).pmf([1, 0])\n",
        "blue_marble = stats.bernoulli(3 / 11).pmf([1, 0])\n",
        "\n",
        "ax[0].bar([\"Red Marbles\", \"Not Red\"], red_marble, color = [\"red\", \"lightgray\"], edgecolor = \"black\")\n",
        "ax[0].set_title(\"Probabilities for a Red Marble\")\n",
        "ax[0].set_ylabel(\"Probability\")\n",
        "\n",
        "ax[1].bar([\"Blue Marbles\", \"Not Blue\"], blue_marble, color = [\"blue\", \"lightgray\"], edgecolor = \"black\")\n",
        "ax[1].set_title(\"Probabilities for a Blue Marble\")\n",
        "ax[1].set_ylabel(\"Probability\")\n",
        "\n",
        "plt.show()"
      ],
      "metadata": {
        "id": "QFlaDBuMTxoS"
      },
      "execution_count": null,
      "outputs": []
    },
    {
      "cell_type": "code",
      "source": [
        "import scipy.stats as stats\n",
        "from scipy.special import comb\n",
        "import matplotlib.pyplot as plt\n",
        "\n",
        "\"\"\"\n",
        "Suppose a bag contain 4 Red Marbles, 7 Yellow Marbles, and 2 Blue Marbles.\n",
        "\n",
        "- What is the probability of selecting a red _or_ yellow marble?\n",
        "- What is the probability of selecting a yellow _or_ blue marble?\n",
        "- How many ways can you select two colors of marbles from the bag?\n",
        "\n",
        "\"\"\"\n",
        "\n",
        "fig, ax = plt.subplots(1, 2, figsize = (20, 5))\n",
        "\n",
        "red_or_yellow_marbles = stats.bernoulli((4 / 13) + (7 / 13)).pmf([1, 0])\n",
        "yellow_or_blue_marbles = stats.bernoulli((7 / 13) + (2 / 13)).pmf([1, 0])\n",
        "\n",
        "\n",
        "ax[0].bar([\"Red Or Yellow Marbles\", \"Not Red Or Yellow\"], red_or_yellow_marbles, color = [\"orange\", \"lightgray\"], edgecolor = \"black\")\n",
        "ax[0].set_title(\"Probabilities for a Red or Yellow Marble\")\n",
        "ax[0].set_ylabel(\"Probability\")\n",
        "\n",
        "ax[1].bar([\"Yellow Or Blue Marbles\", \"Not Yellow Or Blue\"], yellow_or_blue_marbles, color = [\"green\", \"lightgray\"], edgecolor = \"black\")\n",
        "ax[1].set_title(\"Probabilities for a Yellow or Blue Marble\")\n",
        "ax[1].set_ylabel(\"Probability\")\n",
        "\n",
        "print(f\"Ways to select two colors of marbles: {comb(3, 2, exact = True)}\")\n",
        "\n",
        "plt.show()"
      ],
      "metadata": {
        "id": "9r-B3eWOTzFl",
        "outputId": "05175077-b3fb-4c11-bc89-fca04b3a3e33",
        "colab": {
          "base_uri": "https://localhost:8080/",
          "height": 486
        }
      },
      "execution_count": 2,
      "outputs": [
        {
          "output_type": "stream",
          "name": "stdout",
          "text": [
            "Ways to select two colors of marbles: 3\n"
          ]
        },
        {
          "output_type": "display_data",
          "data": {
            "text/plain": [
              "<Figure size 2000x500 with 2 Axes>"
            ],
            "image/png": "[encoded data removed]"
          },
          "metadata": {}
        }
      ]
    },
    {
      "cell_type": "code",
      "source": [
        "import scipy.stats as stats\n",
        "\n",
        "\"\"\"\n",
        "Suppose a bag contains 10 Red and 7 Blue marbles.\n",
        "\n",
        "1. What is the probability this is red?\n",
        "2. What is the probability the second marble is blue if the first marble was blue (with replacement)?\n",
        "3. What is the probability the second marble is blue if the first marble was blue (without replacement)?\n",
        "\"\"\"\n",
        "\n",
        "red_marble = 10 / 17\n",
        "\n",
        "blue_marble_then_blue = (7 / 17) * (7 / 17)\n",
        "\n",
        "blue_marble_no_replace = (7 / 17) * (6 / 16)\n",
        "\n",
        "print(f\"The probability that the marble is red is: {red_marble:.2f}\")\n",
        "print(f\"The probability of drawing a blue marble twice (with replacement) is: {blue_marble_then_blue:.2f}\")\n",
        "print(f\"The probability of drawing a blue marble twice (without replacement) is: {blue_marble_no_replace:.2f}\")"
      ],
      "metadata": {
        "id": "C9Zb4NtETzZC",
        "outputId": "3364baec-7bb8-4f09-c214-b50a54cd0bd8",
        "colab": {
          "base_uri": "https://localhost:8080/"
        }
      },
      "execution_count": 1,
      "outputs": [
        {
          "output_type": "stream",
          "name": "stdout",
          "text": [
            "The probability that the marble is red is: 0.59\n",
            "The probability of drawing a blue marble twice (with replacement) is: 0.17\n",
            "The probability of drawing a blue marble twice (without replacement) is: 0.15\n"
          ]
        }
      ]
    }
  ],
  "metadata": {
    "colab": {
      "provenance": []
    },
    "kernelspec": {
      "display_name": "Python 3",
      "language": "python",
      "name": "python3"
    },
    "language_info": {
      "codemirror_mode": {
        "name": "ipython",
        "version": 3
      },
      "file_extension": ".py",
      "mimetype": "text/x-python",
      "name": "python",
      "nbconvert_exporter": "python",
      "pygments_lexer": "ipython3",
      "version": "3.8.2"
    }
  },
  "nbformat": 4,
  "nbformat_minor": 0
}